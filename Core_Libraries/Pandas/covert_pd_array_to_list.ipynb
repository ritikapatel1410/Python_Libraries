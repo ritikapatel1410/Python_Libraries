{
 "metadata": {
  "language_info": {
   "codemirror_mode": {
    "name": "ipython",
    "version": 3
   },
   "file_extension": ".py",
   "mimetype": "text/x-python",
   "name": "python",
   "nbconvert_exporter": "python",
   "pygments_lexer": "ipython3",
   "version": "3.8.6-final"
  },
  "orig_nbformat": 2,
  "kernelspec": {
   "name": "python38664bit7a444ac97af44e57915db85c546801a4",
   "display_name": "Python 3.8.6 64-bit",
   "language": "python"
  }
 },
 "nbformat": 4,
 "nbformat_minor": 2,
 "cells": [
  {
   "source": [
    "@Author: Ritika Patidar\n",
    "@Date  : 2021-03-04 00:29:38\n",
    "@Last Modified by  : Ritika Patidar\n",
    "@Last Modified time : 2021-03-04 00:29:38\n",
    "@Title : convert a Panda module Series to Python list and it's type"
   ],
   "cell_type": "markdown",
   "metadata": {}
  },
  {
   "cell_type": "code",
   "execution_count": 11,
   "metadata": {},
   "outputs": [],
   "source": [
    "import pandas as pd \n",
    "import os\n",
    "import sys\n",
    "sys.path.insert(0,os.path.abspath('LogFile'))\n",
    "import loggerfile "
   ]
  },
  {
   "cell_type": "code",
   "execution_count": 12,
   "metadata": {},
   "outputs": [
    {
     "output_type": "stream",
     "name": "stdout",
     "text": [
      "================================\ncreated pd series\n0    1\n1    2\n2    3\n3    4\ndtype: object\n=====================\n pd series type\n<class 'pandas.core.series.Series'>\n================================\nconvert list ['1', '2', '3', '4'] and it's type<class 'list'>\n"
     ]
    }
   ],
   "source": [
    "try:\n",
    "    array_size=int(input(\"enter the size of array\"))\n",
    "    created_array=pd.Series([input(\"enter element {0}: \".format(element)) for element in range(array_size)])\n",
    "    print(\"================================\\ncreated pd series\\n{0}\\n=====================\\n pd series type\\n{1}\".format(created_array,type(created_array)))\n",
    "    print(\"================================\\nconvert list {0} and it's type{1}\".format(created_array.tolist(),type(created_array.tolist())))\n",
    "    loggerfile.Logger(\"info\",\"successfully created pandas series\")\n",
    "except ValueError as error:\n",
    "    loggerfile.Logger(\"error\",\"{0} error occured\".format(error))\n",
    "except Exception as error:\n",
    "    loggerfile.Logger(\"error\",\"{0} error occured\".format(error))"
   ]
  }
 ]
}