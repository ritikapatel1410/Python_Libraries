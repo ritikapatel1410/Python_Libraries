{
 "metadata": {
  "language_info": {
   "codemirror_mode": {
    "name": "ipython",
    "version": 3
   },
   "file_extension": ".py",
   "mimetype": "text/x-python",
   "name": "python",
   "nbconvert_exporter": "python",
   "pygments_lexer": "ipython3",
   "version": "3.8.6-final"
  },
  "orig_nbformat": 2,
  "kernelspec": {
   "name": "python38664bit7a444ac97af44e57915db85c546801a4",
   "display_name": "Python 3.8.6 64-bit",
   "language": "python"
  }
 },
 "nbformat": 4,
 "nbformat_minor": 2,
 "cells": [
  {
   "source": [
    "@Author: Ritika Patidar\n",
    "@Date  : 2021-03-05 10:29:38\n",
    "@Last Modified by  : Ritika Patidar\n",
    "@Last Modified time : 2021-03-05 10:29:38\n",
    "@Title : get the powers of an array values element-wise"
   ],
   "cell_type": "markdown",
   "metadata": {}
  },
  {
   "cell_type": "code",
   "execution_count": 15,
   "metadata": {},
   "outputs": [],
   "source": [
    "import pandas as pd"
   ]
  },
  {
   "cell_type": "code",
   "execution_count": 16,
   "metadata": {},
   "outputs": [
    {
     "output_type": "stream",
     "name": "stdout",
     "text": [
      "============================= get the powers of an array values element-wise =====================\n0      0\n1      1\n2      8\n3     27\n4     64\n5    125\n6    216\ndtype: int64\n"
     ]
    }
   ],
   "source": [
    "user_defined_series1=pd.Series([0,1,2,3,4,5,6])\n",
    "user_defined_series2=pd.Series([3,3,3,3,3,3,3])\n",
    "print(\"============================= get the powers of an array values element-wise =====================\\n{0}\".format(user_defined_series1**user_defined_series2))"
   ]
  }
 ]
}