{
 "metadata": {
  "language_info": {
   "codemirror_mode": {
    "name": "ipython",
    "version": 3
   },
   "file_extension": ".py",
   "mimetype": "text/x-python",
   "name": "python",
   "nbconvert_exporter": "python",
   "pygments_lexer": "ipython3",
   "version": "3.8.6-final"
  },
  "orig_nbformat": 2,
  "kernelspec": {
   "name": "python38664bit7a444ac97af44e57915db85c546801a4",
   "display_name": "Python 3.8.6 64-bit",
   "language": "python"
  }
 },
 "nbformat": 4,
 "nbformat_minor": 2,
 "cells": [
  {
   "source": [
    "\n",
    " @Author: Ritika Patidar\n",
    " @Date: 2021-03-2 00:22\n",
    " @Last Modified by: Ritika Patidar\n",
    " @Last Modified time: 2021-03-2 00:22 \n",
    " @Title : create a null vector of size 10 and update sixth value to 11  \n"
   ],
   "cell_type": "markdown",
   "metadata": {}
  },
  {
   "cell_type": "code",
   "execution_count": 2,
   "metadata": {},
   "outputs": [
    {
     "output_type": "stream",
     "name": "stdout",
     "text": [
      "[ 0.  0.  0.  0.  0. 11.  0.  0.  0.  0.]\n"
     ]
    }
   ],
   "source": [
    "import numpy as np \n",
    "null_vector=np.array([0,0,0,0,0,0,0,0,0,0],dtype=\"f\")\n",
    "null_vector[5]=11\n",
    "print(null_vector)"
   ]
  }
 ]
}