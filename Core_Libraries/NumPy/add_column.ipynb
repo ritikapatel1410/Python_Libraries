{
 "metadata": {
  "language_info": {
   "codemirror_mode": {
    "name": "ipython",
    "version": 3
   },
   "file_extension": ".py",
   "mimetype": "text/x-python",
   "name": "python",
   "nbconvert_exporter": "python",
   "pygments_lexer": "ipython3",
   "version": "3.8.6-final"
  },
  "orig_nbformat": 2,
  "kernelspec": {
   "name": "python38664bit7a444ac97af44e57915db85c546801a4",
   "display_name": "Python 3.8.6 64-bit",
   "language": "python"
  }
 },
 "nbformat": 4,
 "nbformat_minor": 2,
 "cells": [
  {
   "source": [
    "@Author: Ritika Patidar\n",
    " @Date  : 2021-03-04 01:42:38\n",
    " @Last Modified by  : Ritika Patidar\n",
    " @Last Modified time : 2021-03-04 01:42:38\n",
    " @Title : add an extra column to an numpy array"
   ],
   "cell_type": "markdown",
   "metadata": {}
  },
  {
   "cell_type": "code",
   "execution_count": 15,
   "metadata": {},
   "outputs": [],
   "source": [
    "import numpy as np \n",
    "import sys\n",
    "import os\n",
    "sys.path.insert(0,os.path.abspath(\"LogFile\"))\n",
    "import loggerfile"
   ]
  },
  {
   "cell_type": "code",
   "execution_count": 16,
   "metadata": {},
   "outputs": [],
   "source": [
    "def add_extra_column(first_row_column,second_row_column):\n",
    "    \"\"\"\n",
    "    Description:\n",
    "        this function define for add extra column on existing nd array\n",
    "    Parameter:\n",
    "        first_row_column (int) : given by user for add column in first row\n",
    "        second_row_column (int) : given by user for add column in second row\n",
    "    Return:\n",
    "        if extra added to existing nd array then it returns successfully add extra column\n",
    "    \"\"\"\n",
    "    try:\n",
    "        original_array=np.array([[10,20,30], [40,50,60]])\n",
    "        added_columns=np.array([[first_row_column],[second_row_column]])\n",
    "        append_ndarray=np.append(original_array,added_columns,axis=1)\n",
    "        loggerfile.Logger(\"info\",\"extra column added\")\n",
    "        print(\"======================= original array ========================\\n{0}\".format(original_array))\n",
    "        print(\"======================== after adding extra coulumn\\n {0}\\n {1}\".format(added_columns,append_ndarray))\n",
    "        return \"successfully add extra column\"\n",
    "    except Exception as error:\n",
    "        loggerfile.Logger(\"error\",\"{0} error occure\".format(error))\n"
   ]
  },
  {
   "cell_type": "code",
   "execution_count": 17,
   "metadata": {},
   "outputs": [
    {
     "output_type": "stream",
     "name": "stdout",
     "text": [
      "======================= original array ========================\n[[10 20 30]\n [40 50 60]]\n======================== after adding extra coulumn\n [[10]\n [11]]\n [[10 20 30 10]\n [40 50 60 11]]\n"
     ]
    }
   ],
   "source": [
    "def main():\n",
    "    \"\"\"\n",
    "    Description:\n",
    "        this function define for take input from the user and call add_extra_column\n",
    "    Parameter:\n",
    "        None\n",
    "    Return:\n",
    "        None\n",
    "    \"\"\"\n",
    "    try:\n",
    "        first_row_column=int(input(\"enter first row column interger only: \"))\n",
    "        second_row_column=int(input(\"enter second row column interger only: \"))\n",
    "        add_extra_column(first_row_column,second_row_column)\n",
    "        loggerfile.Logger(\"info\",\"successfull take input from user and call add_extra_column function\")\n",
    "    except ValueError as error:\n",
    "        loggerfile.Logger(\"error\",\"{0} error occure\".format(error))\n",
    "    except Exception as error:\n",
    "        loggerfile.Logger(\"error\",\"{0} error occure\".format(error))\n",
    "main()"
   ]
  }
 ]
}