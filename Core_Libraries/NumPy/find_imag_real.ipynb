{
 "metadata": {
  "language_info": {
   "codemirror_mode": {
    "name": "ipython",
    "version": 3
   },
   "file_extension": ".py",
   "mimetype": "text/x-python",
   "name": "python",
   "nbconvert_exporter": "python",
   "pygments_lexer": "ipython3",
   "version": "3.8.6-final"
  },
  "orig_nbformat": 2,
  "kernelspec": {
   "name": "python38664bit7a444ac97af44e57915db85c546801a4",
   "display_name": "Python 3.8.6 64-bit",
   "language": "python"
  }
 },
 "nbformat": 4,
 "nbformat_minor": 2,
 "cells": [
  {
   "source": [
    "\n",
    " @Author: Ritika Patidar\n",
    " @Date  : 2021-03-03 10:42:38\n",
    " @Last Modified by  : Ritika Patidar\n",
    " @Last Modified time : 2021-03-03 10:42:38\n",
    " @Title : append values to the end of an array\n",
    "\n"
   ],
   "cell_type": "markdown",
   "metadata": {}
  },
  {
   "source": [
    "\n",
    "import numpy as np \n",
    "original_array=np.asarray([1.00000000 + 0.70710678+0.70710678j])\n",
    "print(\"====================== Original Array =======================\\n{0}\".format(original_array))\n",
    "real_part=original_array.real\n",
    "print(\"======================real_part of Original Array =======================\\n{0}\".format(real_part))\n",
    "imag_part=original_array.imag\n",
    "print(\"======================imag_part of Original Array =======================\\n{0}\".format(imag_part))"
   ],
   "cell_type": "code",
   "metadata": {},
   "execution_count": 6,
   "outputs": [
    {
     "output_type": "stream",
     "name": "stdout",
     "text": [
      "====================== Original Array =======================\n[1.70710678+0.70710678j]\n======================real_part of Original Array =======================\n[1.70710678]\n======================imag_part of Original Array =======================\n[0.70710678]\n"
     ]
    }
   ]
  }
 ]
}