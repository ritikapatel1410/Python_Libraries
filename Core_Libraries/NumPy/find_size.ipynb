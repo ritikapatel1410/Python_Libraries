{
 "metadata": {
  "language_info": {
   "codemirror_mode": {
    "name": "ipython",
    "version": 3
   },
   "file_extension": ".py",
   "mimetype": "text/x-python",
   "name": "python",
   "nbconvert_exporter": "python",
   "pygments_lexer": "ipython3",
   "version": "3.8.6-final"
  },
  "orig_nbformat": 2,
  "kernelspec": {
   "name": "python38664bit7a444ac97af44e57915db85c546801a4",
   "display_name": "Python 3.8.6 64-bit",
   "language": "python"
  }
 },
 "nbformat": 4,
 "nbformat_minor": 2,
 "cells": [
  {
   "source": [
    "\n",
    " @Author: Ritika Patidar\n",
    " @Date: 2021-03-03 11:48:00\n",
    " @Last Modified by: Ritika Patidar\n",
    " @Last Modified time: 2021-03-03 11:48:00 \n",
    " @Title :  find the number of elements of an array, length of one array element in bytes and total bytes consumed by              the elements\n",
    "\n"
   ],
   "cell_type": "markdown",
   "metadata": {}
  },
  {
   "cell_type": "code",
   "execution_count": 2,
   "metadata": {},
   "outputs": [
    {
     "output_type": "stream",
     "name": "stdout",
     "text": [
      "===================== size of ndarray ========================================\n4\n=================================Length of one array element in bytes===============\n8\n=======================Total bytes consumed by the elements of the array==========\n32\n"
     ]
    }
   ],
   "source": [
    "import numpy as np \n",
    "user_defined_ndarray=np.array([12.23, 13.32, 100, 36.32])\n",
    "print(\"===================== size of ndarray ========================================\\n{0}\".format(user_defined_ndarray.size))\n",
    "print(\"=================================Length of one array element in bytes===============\\n{0}\".format(user_defined_ndarray.itemsize))\n",
    "print(\"=======================Total bytes consumed by the elements of the array==========\\n{0}\".format(user_defined_ndarray.nbytes))"
   ]
  },
  {
   "cell_type": "code",
   "execution_count": null,
   "metadata": {},
   "outputs": [],
   "source": []
  }
 ]
}