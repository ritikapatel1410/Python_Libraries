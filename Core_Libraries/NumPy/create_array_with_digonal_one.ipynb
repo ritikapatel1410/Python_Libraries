{
 "metadata": {
  "language_info": {
   "codemirror_mode": {
    "name": "ipython",
    "version": 3
   },
   "file_extension": ".py",
   "mimetype": "text/x-python",
   "name": "python",
   "nbconvert_exporter": "python",
   "pygments_lexer": "ipython3",
   "version": "3.8.6-final"
  },
  "orig_nbformat": 2,
  "kernelspec": {
   "name": "python38664bit7a444ac97af44e57915db85c546801a4",
   "display_name": "Python 3.8.6 64-bit",
   "language": "python"
  }
 },
 "nbformat": 4,
 "nbformat_minor": 2,
 "cells": [
  {
   "source": [
    " @Author: Ritika Patidar\n",
    " @Date  : 2021-03-04 00:52:38\n",
    " @Last Modified by  : Ritika Patidar\n",
    " @Last Modified time : 2021-03-04 00:52:38\n",
    " @Title : create a 3-D array with ones on a diagonal and zeros elsewhere"
   ],
   "cell_type": "markdown",
   "metadata": {}
  },
  {
   "cell_type": "code",
   "execution_count": 6,
   "metadata": {},
   "outputs": [],
   "source": [
    "import numpy as np\n",
    "import os\n",
    "import sys\n",
    "sys.path.insert(0,os.path.abspath(\"LogFile\"))\n",
    "import loggerfile"
   ]
  },
  {
   "cell_type": "code",
   "execution_count": 7,
   "metadata": {},
   "outputs": [
    {
     "output_type": "stream",
     "name": "stdout",
     "text": [
      "=================================================\ncreate a 3-D array with ones on a diagonal and zeros elsewhere is\n [[1. 0. 0. 0.]\n [0. 1. 0. 0.]\n [0. 0. 1. 0.]\n [0. 0. 0. 1.]]\n"
     ]
    }
   ],
   "source": [
    "try:\n",
    "    Dimension_array=int(input(\"enter dimension of array: \"))\n",
    "    created_array=np.eye(Dimension_array)\n",
    "    print(\"=================================================\\ncreate a 3-D array with ones on a diagonal and zeros elsewhere is\\n {0}\".format(created_array))\n",
    "    loggerfile.Logger(\"info\",\"successfully created 3-D array with ones on a diagonal and zeros elsewhere\")\n",
    "except ValueError as error:\n",
    "    loggerfile.Logger(\"error\",\"{0} error occured\".format(error))\n",
    "except Exception as error:\n",
    "    loggerfile.Logger(\"error\",\"{0} error occured\".format(error))\n"
   ]
  }
 ]
}