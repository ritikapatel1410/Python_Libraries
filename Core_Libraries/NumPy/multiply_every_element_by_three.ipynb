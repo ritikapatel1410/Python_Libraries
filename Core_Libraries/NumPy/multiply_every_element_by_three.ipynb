{
 "metadata": {
  "language_info": {
   "codemirror_mode": {
    "name": "ipython",
    "version": 3
   },
   "file_extension": ".py",
   "mimetype": "text/x-python",
   "name": "python",
   "nbconvert_exporter": "python",
   "pygments_lexer": "ipython3",
   "version": "3.8.6-final"
  },
  "orig_nbformat": 2,
  "kernelspec": {
   "name": "python38664bit7a444ac97af44e57915db85c546801a4",
   "display_name": "Python 3.8.6 64-bit",
   "language": "python"
  }
 },
 "nbformat": 4,
 "nbformat_minor": 2,
 "cells": [
  {
   "source": [
    "@Author: Ritika Patidar\n",
    " @Date  : 2021-03-04 : 01:42:38\n",
    " @Last Modified by  : Ritika Patidar\n",
    " @Last Modified time : 2021-03-04 01:42:38\n",
    " @Title : create an array of (3, 4) shape, multiply every element value by 3 and display the new array"
   ],
   "cell_type": "markdown",
   "metadata": {}
  },
  {
   "cell_type": "code",
   "execution_count": 8,
   "metadata": {},
   "outputs": [
    {
     "output_type": "stream",
     "name": "stdout",
     "text": [
      "======================== Original ndrray =================================\n[[ 0  1  2  3]\n [ 4  5  6  7]\n [ 8  9 10 11]]\n======================== after multiply by three ===================================\n[[ 0  3  6  9]\n [12 15 18 21]\n [24 27 30 33]]\n"
     ]
    }
   ],
   "source": [
    "import numpy as np \n",
    "user_defined_ndarray=np.arange(12).reshape(3,4)\n",
    "clone_user_defined_ndarray=user_defined_ndarray.copy()\n",
    "for element in np.nditer(user_defined_ndarray,op_flags=['readwrite']):\n",
    "    element[...] = 3 * element\n",
    "print(\"======================== Original ndrray =================================\\n{0}\".format(clone_user_defined_ndarray))\n",
    "print(\"======================== after multiply by three ===================================\\n{0}\".format(user_defined_ndarray))"
   ]
  }
 ]
}