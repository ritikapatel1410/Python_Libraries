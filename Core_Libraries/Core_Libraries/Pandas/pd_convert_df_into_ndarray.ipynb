{
 "metadata": {
  "language_info": {
   "codemirror_mode": {
    "name": "ipython",
    "version": 3
   },
   "file_extension": ".py",
   "mimetype": "text/x-python",
   "name": "python",
   "nbconvert_exporter": "python",
   "pygments_lexer": "ipython3",
   "version": "3.8.6-final"
  },
  "orig_nbformat": 2,
  "kernelspec": {
   "name": "python38664bit7a444ac97af44e57915db85c546801a4",
   "display_name": "Python 3.8.6 64-bit",
   "language": "python"
  }
 },
 "nbformat": 4,
 "nbformat_minor": 2,
 "cells": [
  {
   "source": [
    " @Author: Ritika Patidar\n",
    " @Date: 2021-03-08 19:15:10\n",
    " @Last Modified by: Ritika Patidar\n",
    " @Last Modified time: 2021-03-08 19:15:38  \n",
    " @Title : convert data frame into nd arraay"
   ],
   "cell_type": "markdown",
   "metadata": {}
  },
  {
   "cell_type": "code",
   "execution_count": 11,
   "metadata": {},
   "outputs": [],
   "source": [
    "import pandas as pd"
   ]
  },
  {
   "cell_type": "code",
   "execution_count": 12,
   "metadata": {},
   "outputs": [
    {
     "output_type": "stream",
     "name": "stdout",
     "text": [
      "============================ pulse column of data ===============\n0    110\n1    117\n2    103\n3    109\n4    117\nName: Pulse, dtype: int64\n=================== converted dataframe into ndarray =======================\n[[110]\n [117]\n [103]\n [109]\n [117]]\n"
     ]
    }
   ],
   "source": [
    "data = pd.read_csv('csv_file/data.csv')\n",
    "dataframe.dropna(inplace=True)\n",
    "column_dataframe = pd.DataFrame(data['Pulse'].head()) \n",
    "print(\"============================ pulse column of data ===============\\n{0}\".format(data['Pulse'].head()))\n",
    "print(\"=================== converted dataframe into ndarray =======================\\n{0}\".format(column_dataframe.to_numpy()))"
   ]
  }
 ]
}