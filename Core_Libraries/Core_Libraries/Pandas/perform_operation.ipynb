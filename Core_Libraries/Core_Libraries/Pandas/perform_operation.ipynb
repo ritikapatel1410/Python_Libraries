{
 "metadata": {
  "language_info": {
   "codemirror_mode": {
    "name": "ipython",
    "version": 3
   },
   "file_extension": ".py",
   "mimetype": "text/x-python",
   "name": "python",
   "nbconvert_exporter": "python",
   "pygments_lexer": "ipython3",
   "version": "3.8.6-final"
  },
  "orig_nbformat": 2,
  "kernelspec": {
   "name": "python38664bit7a444ac97af44e57915db85c546801a4",
   "display_name": "Python 3.8.6 64-bit",
   "language": "python"
  }
 },
 "nbformat": 4,
 "nbformat_minor": 2,
 "cells": [
  {
   "source": [
    "@Author: Ritika Patidar\n",
    "@Date  : 2021-03-05 10:29:38\n",
    "@Last Modified by  : Ritika Patidar\n",
    "@Last Modified time : 2021-03-05 10:29:38\n",
    "@Title : add, subtract, multiple and divide two Pandas Series"
   ],
   "cell_type": "markdown",
   "metadata": {}
  },
  {
   "cell_type": "code",
   "execution_count": 1,
   "metadata": {},
   "outputs": [],
   "source": [
    "import pandas as pd"
   ]
  },
  {
   "source": [
    "user_defined_series1=pd.Series([2, 4, 6, 8, 10])\n",
    "user_defined_series2=pd.Series([1, 3, 5, 7, 9])\n",
    "print(\"========================= addition of two series here ===============================\\n{0}\".format(user_defined_series1+user_defined_series2))\n",
    "print(\"========================= substraction of two series here ===============================\\n{0}\".format(user_defined_series1-user_defined_series2))\n",
    "print(\"========================= multiplication of two series here ===============================\\n{0}\".format(user_defined_series1*user_defined_series2))\n",
    "print(\"========================= Division of two series here ===============================\\n{0}\".format(user_defined_series1/user_defined_series2))\n",
    "\n"
   ],
   "cell_type": "code",
   "metadata": {},
   "execution_count": 2,
   "outputs": [
    {
     "output_type": "stream",
     "name": "stdout",
     "text": [
      "========================= addition of two series here ===============================\n0     3\n1     7\n2    11\n3    15\n4    19\ndtype: int64\n========================= substraction of two series here ===============================\n0    1\n1    1\n2    1\n3    1\n4    1\ndtype: int64\n========================= multiplication of two series here ===============================\n0     2\n1    12\n2    30\n3    56\n4    90\ndtype: int64\n========================= Division of two series here ===============================\n0    2.000000\n1    1.333333\n2    1.200000\n3    1.142857\n4    1.111111\ndtype: float64\n"
     ]
    }
   ]
  },
  {
   "cell_type": "code",
   "execution_count": null,
   "metadata": {},
   "outputs": [],
   "source": []
  }
 ]
}