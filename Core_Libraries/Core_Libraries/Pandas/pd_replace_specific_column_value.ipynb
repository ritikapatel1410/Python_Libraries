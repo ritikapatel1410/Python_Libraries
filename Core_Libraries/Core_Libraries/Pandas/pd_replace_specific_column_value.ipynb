{
 "metadata": {
  "language_info": {
   "codemirror_mode": {
    "name": "ipython",
    "version": 3
   },
   "file_extension": ".py",
   "mimetype": "text/x-python",
   "name": "python",
   "nbconvert_exporter": "python",
   "pygments_lexer": "ipython3",
   "version": "3.8.6-final"
  },
  "orig_nbformat": 2,
  "kernelspec": {
   "name": "python38664bit7a444ac97af44e57915db85c546801a4",
   "display_name": "Python 3.8.6 64-bit",
   "language": "python"
  }
 },
 "nbformat": 4,
 "nbformat_minor": 2,
 "cells": [
  {
   "source": [
    "@Author: Ritika Patidar\n",
    "@Date  : 2021-03-05 22:29:38\n",
    "@Last Modified by  : Ritika Patidar\n",
    "@Last Modified time : 2021-03-05 22:29:38\n",
    "@Title : replace the 'qualify' column contains the values 'yes' and 'no' with True and False"
   ],
   "cell_type": "markdown",
   "metadata": {}
  },
  {
   "cell_type": "code",
   "execution_count": 13,
   "metadata": {},
   "outputs": [],
   "source": [
    "import pandas as pd\n",
    "import numpy as np"
   ]
  },
  {
   "cell_type": "code",
   "execution_count": 14,
   "metadata": {},
   "outputs": [],
   "source": [
    "exam_data = {'name': ['Anastasia', 'Dima', 'Katherine', 'James', 'Emily', 'Michael', 'Matthew', 'Laura', 'Kevin', 'Jonas'],\n",
    "'score': [12.5, 9, 16.5, np.nan, 9, 20, 14.5, np.nan, 8, 19],\n",
    "'attempts': [1, 3, 2, 3, 2, 3, 1, 1, 2, 1],\n",
    "'qualify': ['yes', 'no', 'yes', 'no', 'no', 'yes', 'yes', 'no', 'no', 'yes']}\n",
    "labels = ['a', 'b', 'c', 'd', 'e', 'f', 'g', 'h', 'i', 'j']"
   ]
  },
  {
   "cell_type": "code",
   "execution_count": 15,
   "metadata": {},
   "outputs": [
    {
     "output_type": "stream",
     "name": "stdout",
     "text": [
      "=============================== Original Dataframe ========\n        name  score  attempts qualify\na  Anastasia   12.5         1     yes\nb       Dima    9.0         3      no\nc  Katherine   16.5         2     yes\nd      James    NaN         3      no\ne      Emily    9.0         2      no\nf    Michael   20.0         3     yes\ng    Matthew   14.5         1     yes\nh      Laura    NaN         1      no\ni      Kevin    8.0         2      no\nj      Jonas   19.0         1     yes\n=============================== After replace in column yes by True and no by False========\n        name  score  attempts  qualify\na  Anastasia   12.5         1     True\nb       Dima    9.0         3    False\nc  Katherine   16.5         2     True\nd      James    NaN         3    False\ne      Emily    9.0         2    False\nf    Michael   20.0         3     True\ng    Matthew   14.5         1     True\nh      Laura    NaN         1    False\ni      Kevin    8.0         2    False\nj      Jonas   19.0         1     True\n"
     ]
    }
   ],
   "source": [
    "display_pd=pd.DataFrame(exam_data,index=labels)\n",
    "print(\"=============================== Original Dataframe ========\\n{0}\".format(display_pd))\n",
    "display_pd['qualify']=display_pd['qualify'].map({'yes': True, 'no': False})\n",
    "print(\"=============================== After replace in column yes by True and no by False========\\n{0}\".format(display_pd))\n"
   ]
  }
 ]
}