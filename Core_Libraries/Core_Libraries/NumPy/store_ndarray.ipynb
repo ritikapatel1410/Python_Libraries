{
 "metadata": {
  "language_info": {
   "codemirror_mode": {
    "name": "ipython",
    "version": 3
   },
   "file_extension": ".py",
   "mimetype": "text/x-python",
   "name": "python",
   "nbconvert_exporter": "python",
   "pygments_lexer": "ipython3",
   "version": "3.8.6-final"
  },
  "orig_nbformat": 2,
  "kernelspec": {
   "name": "python38664bit7a444ac97af44e57915db85c546801a4",
   "display_name": "Python 3.8.6 64-bit",
   "language": "python"
  }
 },
 "nbformat": 4,
 "nbformat_minor": 2,
 "cells": [
  {
   "source": [
    " @Author: Ritika Patidar\n",
    " @Date  : 2021-03-03 10:42:38\n",
    " @Last Modified by  : Ritika Patidar\n",
    " @Last Modified time : 2021-03-03 10:42:38\n",
    " @Title : store ndarray into .txt file"
   ],
   "cell_type": "markdown",
   "metadata": {}
  },
  {
   "cell_type": "code",
   "execution_count": 10,
   "metadata": {},
   "outputs": [],
   "source": [
    "import numpy as np \n",
    "import os\n",
    "sys.path.insert(0,os.path.abspath(\"LogFile\"))\n",
    "import loggerfile"
   ]
  },
  {
   "source": [
    "def store_ndarray(given_ndarray):\n",
    "    \"\"\"\n",
    "    Description:\n",
    "        this function defined for store data ndarray data into array_store.txt file\n",
    "    Pararmeter:\n",
    "        given_ndarray (ndarray) : ndarray created by user2\n",
    "    Return:\n",
    "        if store data into file then it returns successfully write ndarray into txt file\n",
    "    \"\"\"\n",
    "    try:\n",
    "        file=open(\"text_file/array_store.txt\",\"w\")\n",
    "        file.write(str(given_ndarray))\n",
    "        file.close()\n",
    "        loggerfile.Logger(\"info\",\"successfully write ndarray in file\")\n",
    "        return \"successfully write ndarray {0} into txt file\".format(given_ndarray)\n",
    "    except Exception as error:\n",
    "        loggerfile.Logger(\"error\",\"{0} error occured\".format(error))"
   ],
   "cell_type": "code",
   "metadata": {},
   "execution_count": 11,
   "outputs": []
  },
  {
   "cell_type": "code",
   "execution_count": 12,
   "metadata": {},
   "outputs": [
    {
     "output_type": "stream",
     "name": "stdout",
     "text": [
      "successfully write ndarray [1 2 3 4 5 6 7] into txt file\n"
     ]
    }
   ],
   "source": [
    "def main():\n",
    "    \"\"\"\n",
    "    Description:\n",
    "        this function defined for create ndarray and call store_ndarray function\n",
    "    Pararmeter:\n",
    "        None\n",
    "    Return:\n",
    "        None\n",
    "    \"\"\"\n",
    "    while True:\n",
    "        try:\n",
    "            size_of_given_ndarray=int(input(\"enter the size of given_ndarray: \"))\n",
    "            given_ndarray=np.array([int(input(\"enter the element of given_ndarray\")) for element in range(size_of_given_ndarray)])\n",
    "            loggerfile.Logger(\"info\",\"successfully created ndarray\")\n",
    "            print(store_ndarray(given_ndarray))\n",
    "            break\n",
    "        except ValueError as error:\n",
    "            loggerfile.Logger(\"error\",\"{0} error occured\".format(error))\n",
    "        except Exception as error:\n",
    "            loggerfile.Logger(\"error\",\"{0} error occured\".format(error))\n",
    "\n",
    "main()\n"
   ]
  },
  {
   "cell_type": "code",
   "execution_count": null,
   "metadata": {},
   "outputs": [],
   "source": []
  }
 ]
}