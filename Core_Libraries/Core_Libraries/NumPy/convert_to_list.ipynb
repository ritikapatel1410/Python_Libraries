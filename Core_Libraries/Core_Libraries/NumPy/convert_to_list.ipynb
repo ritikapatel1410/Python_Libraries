{
 "metadata": {
  "language_info": {
   "codemirror_mode": {
    "name": "ipython",
    "version": 3
   },
   "file_extension": ".py",
   "mimetype": "text/x-python",
   "name": "python",
   "nbconvert_exporter": "python",
   "pygments_lexer": "ipython3",
   "version": "3.8.6-final"
  },
  "orig_nbformat": 2,
  "kernelspec": {
   "name": "python38664bit7a444ac97af44e57915db85c546801a4",
   "display_name": "Python 3.8.6 64-bit",
   "language": "python"
  }
 },
 "nbformat": 4,
 "nbformat_minor": 2,
 "cells": [
  {
   "source": [
    "@Author: Ritika Patidar\n",
    " @Date  : 2021-03-04 02:42:38\n",
    " @Last Modified by  : Ritika Patidar\n",
    " @Last Modified time : 2021-03-04 02:42:38\n",
    " @Title : convert a NumPy array into Python list structure"
   ],
   "cell_type": "markdown",
   "metadata": {}
  },
  {
   "cell_type": "code",
   "execution_count": 23,
   "metadata": {},
   "outputs": [],
   "source": [
    "import numpy as np "
   ]
  },
  {
   "cell_type": "code",
   "execution_count": 24,
   "metadata": {},
   "outputs": [
    {
     "output_type": "stream",
     "name": "stdout",
     "text": [
      "====================== Original nd array ========================\n[[0 1]\n [2 3]\n [4 5]]\n======================= Converted Original ndarray into list ======================\n[[0, 1], [2, 3], [4, 5]]\n"
     ]
    }
   ],
   "source": [
    "user_defined_ndarray=np.arange(6).reshape(3,2)\n",
    "convert_to_list=user_defined_ndarray.tolist()\n",
    "print(\"====================== Original nd array ========================\\n{0}\".format(user_defined_ndarray))\n",
    "print(\"======================= Converted Original ndarray into list ======================\\n{0}\".format(convert_to_list))"
   ]
  }
 ]
}