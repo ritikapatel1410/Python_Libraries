{
 "metadata": {
  "language_info": {
   "codemirror_mode": {
    "name": "ipython",
    "version": 3
   },
   "file_extension": ".py",
   "mimetype": "text/x-python",
   "name": "python",
   "nbconvert_exporter": "python",
   "pygments_lexer": "ipython3",
   "version": "3.8.6-final"
  },
  "orig_nbformat": 2,
  "kernelspec": {
   "name": "python38664bit7a444ac97af44e57915db85c546801a4",
   "display_name": "Python 3.8.6 64-bit",
   "language": "python"
  }
 },
 "nbformat": 4,
 "nbformat_minor": 2,
 "cells": [
  {
   "source": [
    "\n",
    " @Author: Ritika Patidar\n",
    " @Date  : 2021-03-03 10:42:38\n",
    " @Last Modified by  : Ritika Patidar\n",
    " @Last Modified time : 2021-03-03 10:42:38\n",
    " @Title : compare two arrays using numpy"
   ],
   "cell_type": "markdown",
   "metadata": {}
  },
  {
   "cell_type": "code",
   "execution_count": 17,
   "metadata": {},
   "outputs": [],
   "source": [
    "import numpy as np \n",
    "import os\n",
    "sys.path.insert(0,os.path.abspath(\"LogFile\"))\n",
    "import loggerfile\n",
    "\n",
    "def compare_two_array(given_ndarray1,given_ndarray2):\n",
    "    print(\"==========================================\\ngiven_ndarray1 {0} >given_ndarray2 {1} : {2}\".format(given_ndarray1,given_ndarray2,np.greater(given_ndarray1,given_ndarray2)))\n",
    "    print(\"==========================================\\ngiven_ndarray1 {0} >=given_ndarray2 {1} : {2}\".format(given_ndarray1,given_ndarray2,np.greater_equal(given_ndarray1,given_ndarray2)))\n",
    "    print(\"==========================================\\ngiven_ndarray1 {0} <given_ndarray2 {1} : {2}\".format(given_ndarray1,given_ndarray2,np.less(given_ndarray1,given_ndarray2)))\n",
    "    print(\"==========================================\\ngiven_ndarray1 {0} <=given_ndarray2 {1} : {2}\".format(given_ndarray1,given_ndarray2,np.less_equal(given_ndarray1,given_ndarray2)))\n",
    "\n",
    "\n",
    "\n",
    "def main():\n",
    "    try:\n",
    "        given_list1=[]\n",
    "        given_list2=[]\n",
    "        given_array_dictionary={\"given_list1\":given_list1,\"given_list2\":given_list2}\n",
    "        for nd_array in given_array_dictionary.keys():\n",
    "            given_ndarray_size=int(input(\"===========================================\\nenter the size of \"+str(nd_array)+\": \"))\n",
    "            for element in range(given_ndarray_size):\n",
    "                given_ndarray_element=int(input(\"===========================================\\nenter the element of \"+str(nd_array)+\": \"))\n",
    "                given_array_dictionary[nd_array].append(given_ndarray_element)\n",
    "        given_ndarray1=np.array(given_list1)\n",
    "        given_ndarray2=np.array(given_list2)\n",
    "        compare_two_array(given_ndarray1,given_ndarray2)\n",
    "        loggerfile.Logger(\"info\",\"successfully compared two ndarrays\")\n",
    "    except ValueError as error:\n",
    "        loggerfile.Logger(\"error\",\"{0} error occured\".format(error))\n",
    "    except Exception as error:\n",
    "        loggerfile.Logger(\"error\",\"{0} error occured\".format(error))\n",
    "main()\n",
    "\n",
    "\n"
   ]
  },
  {
   "cell_type": "code",
   "execution_count": null,
   "metadata": {},
   "outputs": [],
   "source": []
  }
 ]
}