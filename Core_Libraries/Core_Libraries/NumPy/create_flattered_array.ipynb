{
 "metadata": {
  "language_info": {
   "codemirror_mode": {
    "name": "ipython",
    "version": 3
   },
   "file_extension": ".py",
   "mimetype": "text/x-python",
   "name": "python",
   "nbconvert_exporter": "python",
   "pygments_lexer": "ipython3",
   "version": "3.8.6-final"
  },
  "orig_nbformat": 2,
  "kernelspec": {
   "name": "python38664bit7a444ac97af44e57915db85c546801a4",
   "display_name": "Python 3.8.6 64-bit",
   "language": "python"
  }
 },
 "nbformat": 4,
 "nbformat_minor": 2,
 "cells": [
  {
   "source": [
    " @Author: Ritika Patidar\n",
    " @Date  : 2021-03-03 10:42:38\n",
    " @Last Modified by  : Ritika Patidar\n",
    " @Last Modified time : 2021-03-03 10:42:38\n",
    " @Title : contiguous flattened array"
   ],
   "cell_type": "markdown",
   "metadata": {}
  },
  {
   "cell_type": "code",
   "execution_count": 2,
   "metadata": {},
   "outputs": [],
   "source": [
    "import numpy as np \n"
   ]
  },
  {
   "cell_type": "code",
   "execution_count": 3,
   "metadata": {},
   "outputs": [
    {
     "output_type": "stream",
     "name": "stdout",
     "text": [
      "=====================================================\nOriginal_array : [[10 20 30]\n [20 40 50]]\n==========================\nFlattered_array : [10 20 30 20 40 50]\n"
     ]
    }
   ],
   "source": [
    "Original_array=np.array([[10,20,30],[20, 40, 50]])\n",
    "flattered_array=np.ravel(Original_array)\n",
    "print(\"=====================================================\\nOriginal_array : {0}\\n==========================\\nFlattered_array : {1}\".format(Original_array,flattered_array))"
   ]
  },
  {
   "cell_type": "code",
   "execution_count": null,
   "metadata": {},
   "outputs": [],
   "source": []
  }
 ]
}