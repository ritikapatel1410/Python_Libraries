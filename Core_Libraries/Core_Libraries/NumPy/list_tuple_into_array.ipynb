{
 "metadata": {
  "language_info": {
   "codemirror_mode": {
    "name": "ipython",
    "version": 3
   },
   "file_extension": ".py",
   "mimetype": "text/x-python",
   "name": "python",
   "nbconvert_exporter": "python",
   "pygments_lexer": "ipython3",
   "version": "3.8.6-final"
  },
  "orig_nbformat": 2,
  "kernelspec": {
   "name": "python38664bit7a444ac97af44e57915db85c546801a4",
   "display_name": "Python 3.8.6 64-bit",
   "language": "python"
  }
 },
 "nbformat": 4,
 "nbformat_minor": 2,
 "cells": [
  {
   "source": [
    "\n",
    " @Author: Ritika Patidar\n",
    " @Date  : 2021-03-03 10:42:38\n",
    " @Last Modified by  : Ritika Patidar\n",
    " @Last Modified time : 2021-03-03 10:42:38\n",
    " @Title : convert a list and tuple into arrays\n",
    "\n"
   ],
   "cell_type": "markdown",
   "metadata": {}
  },
  {
   "cell_type": "code",
   "execution_count": 2,
   "metadata": {},
   "outputs": [
    {
     "output_type": "stream",
     "name": "stdout",
     "text": [
      "====================== Original List =======================\n[1, 2, 3, 4, 5, 6, 7, 8]\n====================== List converted into nd arrays =======================\n[1 2 3 4 5 6 7 8]\n====================== Original Tuple =======================\n([8, 4, 6], [1, 2, 3])\n====================== Tuple converted into nd arrays =======================\n[[8 4 6]\n [1 2 3]]\n"
     ]
    }
   ],
   "source": [
    "import numpy as np \n",
    "user_defined_list=[1, 2, 3, 4, 5, 6, 7, 8]\n",
    "print(\"====================== Original List =======================\\n{0}\".format(user_defined_list))\n",
    "converted_array=np.asarray(user_defined_list)\n",
    "print(\"====================== List converted into nd arrays =======================\\n{0}\".format(converted_array))\n",
    "user_defined_tuple=([8, 4, 6], [1, 2, 3])\n",
    "print(\"====================== Original Tuple =======================\\n{0}\".format(user_defined_tuple))\n",
    "converted_tuple=np.asarray(user_defined_tuple)\n",
    "print(\"====================== Tuple converted into nd arrays =======================\\n{0}\".format(converted_tuple))"
   ]
  }
 ]
}