{
 "metadata": {
  "language_info": {
   "codemirror_mode": {
    "name": "ipython",
    "version": 3
   },
   "file_extension": ".py",
   "mimetype": "text/x-python",
   "name": "python",
   "nbconvert_exporter": "python",
   "pygments_lexer": "ipython3",
   "version": "3.8.6-final"
  },
  "orig_nbformat": 2,
  "kernelspec": {
   "name": "python38664bit7a444ac97af44e57915db85c546801a4",
   "display_name": "Python 3.8.6 64-bit",
   "language": "python"
  }
 },
 "nbformat": 4,
 "nbformat_minor": 2,
 "cells": [
  {
   "source": [
    "@Author: Ritika Patidar \n",
    "@Date : 2021-03-03 21:42:38 \n",
    "@Last Modified by : Ritika Patidar \n",
    "@Last Modified time : 2021-03-03 21:42:38 \n",
    "@Title : exclusive set difference of ndarray "
   ],
   "cell_type": "markdown",
   "metadata": {}
  },
  {
   "cell_type": "code",
   "execution_count": 15,
   "metadata": {},
   "outputs": [
    {
     "output_type": "stream",
     "name": "stdout",
     "text": [
      "===================================================\nexclusive difference of [1 2 3 4] and [ 1  2  3  8  9 10]: [ 4  8  9 10]\n"
     ]
    }
   ],
   "source": [
    "import numpy as np \n",
    "import sys\n",
    "import os\n",
    "sys.path.insert(0, os.path.abspath('LogFile'))\n",
    "import loggerfile\n",
    "try:\n",
    "    size_of_user_defined_list1=int(input(\"================================\\nenter size of user_defined_list1: \"))\n",
    "    user_defined_list1=[int(input(\"enter element of list1: \"))  for element in range(size_of_user_defined_list1)]\n",
    "    size_of_user_defined_list2=int(input(\"================================\\nenter size of user_defined_list2: \"))\n",
    "    user_defined_list2=[int(input(\"enter element of list2: \"))  for element in range(size_of_user_defined_list2)]\n",
    "    user_ndarray1=np.array(user_defined_list1)\n",
    "    user_ndarray2=np.array(user_defined_list2)\n",
    "    print(\"===================================================\\nexclusive difference of {0} and {1}: {2}\".format(user_ndarray1,user_ndarray2,np.setxor1d(user_ndarray1,user_ndarray2)))\n",
    "    loggerfile.Logger(\"info\",\"successfully find exclusive difference of nd arrays\")\n",
    "except Exception as error:\n",
    "    loggerfile.Logger(\"error\",\"{0} error occured\".format(error))\n",
    "\n",
    "\n",
    "\n"
   ]
  },
  {
   "cell_type": "code",
   "execution_count": null,
   "metadata": {},
   "outputs": [],
   "source": []
  }
 ]
}