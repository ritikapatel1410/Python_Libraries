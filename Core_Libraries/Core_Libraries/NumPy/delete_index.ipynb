{
 "metadata": {
  "language_info": {
   "codemirror_mode": {
    "name": "ipython",
    "version": 3
   },
   "file_extension": ".py",
   "mimetype": "text/x-python",
   "name": "python",
   "nbconvert_exporter": "python",
   "pygments_lexer": "ipython3",
   "version": "3.8.6-final"
  },
  "orig_nbformat": 2,
  "kernelspec": {
   "name": "python38664bit7a444ac97af44e57915db85c546801a4",
   "display_name": "Python 3.8.6 64-bit",
   "language": "python"
  }
 },
 "nbformat": 4,
 "nbformat_minor": 2,
 "cells": [
  {
   "source": [
    "@Author: Ritika Patidar\n",
    " @Date  : 2021-03-04 10:42:38\n",
    " @Last Modified by  : Ritika Patidar\n",
    " @Last Modified time : 2021-03-04 10:42:38\n",
    " @Title : remove specific elements in a numpy array"
   ],
   "cell_type": "markdown",
   "metadata": {}
  },
  {
   "cell_type": "code",
   "execution_count": 5,
   "metadata": {},
   "outputs": [],
   "source": [
    "import numpy as np \n"
   ]
  },
  {
   "cell_type": "code",
   "execution_count": 6,
   "metadata": {},
   "outputs": [
    {
     "output_type": "stream",
     "name": "stdout",
     "text": [
      "==================================Original array=================================\n[ 10  20  30  40  50  60  70  80  90 100]\n======================== after removing index [0, 3, 4] ===================================\n[ 20  30  60  70  80  90 100]\n"
     ]
    }
   ],
   "source": [
    "user_defined_ndarray = np.array([10, 20, 30, 40, 50, 60, 70, 80, 90, 100])\n",
    "remove_index = [0, 3, 4]\n",
    "print(\"==================================Original array=================================\\n{0}\".format(user_defined_ndarray))\n",
    "new_user_defined_ndarray = np.delete(user_defined_ndarray, remove_index)\n",
    "print(\"======================== after removing index {0} ===================================\\n{1}\".format(remove_index ,new_user_defined_ndarray))\n"
   ]
  }
 ]
}