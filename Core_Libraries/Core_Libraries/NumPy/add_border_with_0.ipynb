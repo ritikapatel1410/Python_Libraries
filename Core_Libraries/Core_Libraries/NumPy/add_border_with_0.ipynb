{
 "metadata": {
  "language_info": {
   "codemirror_mode": {
    "name": "ipython",
    "version": 3
   },
   "file_extension": ".py",
   "mimetype": "text/x-python",
   "name": "python",
   "nbconvert_exporter": "python",
   "pygments_lexer": "ipython3",
   "version": "3.8.6-final"
  },
  "orig_nbformat": 2,
  "kernelspec": {
   "name": "python38664bit7a444ac97af44e57915db85c546801a4",
   "display_name": "Python 3.8.6 64-bit",
   "language": "python"
  }
 },
 "nbformat": 4,
 "nbformat_minor": 2,
 "cells": [
  {
   "source": [
    "\n",
    " @Author: Ritika Patidar\n",
    " @Date  : 2021-03-03 10:17:38\n",
    " @Last Modified by  : Ritika Patidar\n",
    " @Last Modified time : 2021-03-03 10:17:38\n",
    " @Title :add a border (filled with 0's) around an existing array\n",
    "\n"
   ],
   "cell_type": "markdown",
   "metadata": {}
  },
  {
   "cell_type": "code",
   "execution_count": 1,
   "metadata": {},
   "outputs": [
    {
     "output_type": "stream",
     "name": "stdout",
     "text": [
      "====================== Original array =======================\n[[1. 1. 1.]\n [1. 1. 1.]\n [1. 1. 1.]]\n====================== add boarder wth filled zeros =======================\n[[0. 0. 0. 0. 0.]\n [0. 1. 1. 1. 0.]\n [0. 1. 1. 1. 0.]\n [0. 1. 1. 1. 0.]\n [0. 0. 0. 0. 0.]]\n"
     ]
    }
   ],
   "source": [
    "import numpy as np \n",
    "created_array=np.ones((3,3))\n",
    "print(\"====================== Original array =======================\\n{0}\".format(created_array))\n",
    "created_array = np.pad(created_array, pad_width=1, mode='constant', constant_values=0)\n",
    "print(\"====================== add boarder wth filled zeros =======================\\n{0}\".format(created_array))"
   ]
  },
  {
   "cell_type": "code",
   "execution_count": null,
   "metadata": {},
   "outputs": [],
   "source": []
  }
 ]
}