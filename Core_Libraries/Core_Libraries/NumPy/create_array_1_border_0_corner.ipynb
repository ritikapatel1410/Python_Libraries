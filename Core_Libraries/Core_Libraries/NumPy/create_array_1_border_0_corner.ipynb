{
 "metadata": {
  "language_info": {
   "codemirror_mode": {
    "name": "ipython",
    "version": 3
   },
   "file_extension": ".py",
   "mimetype": "text/x-python",
   "name": "python",
   "nbconvert_exporter": "python",
   "pygments_lexer": "ipython3",
   "version": "3.8.6-final"
  },
  "orig_nbformat": 2,
  "kernelspec": {
   "name": "python38664bit7a444ac97af44e57915db85c546801a4",
   "display_name": "Python 3.8.6 64-bit",
   "language": "python"
  }
 },
 "nbformat": 4,
 "nbformat_minor": 2,
 "cells": [
  {
   "source": [
    "'''\n",
    " @Author: Ritika Patidar\n",
    " @Date  : 2021-03-03 00:28:28\n",
    " @Last Modified by  : Ritika Patidar\n",
    " @Last Modified time : 2021-03-03 00:28:28\n",
    " @Title :To create a 2d array with 1 on the border and 0 inside\n",
    "'''\n"
   ],
   "cell_type": "markdown",
   "metadata": {}
  },
  {
   "cell_type": "code",
   "execution_count": 1,
   "metadata": {},
   "outputs": [
    {
     "output_type": "stream",
     "name": "stdout",
     "text": [
      "====================== Original array =======================\n[[1. 1. 1. 1. 1.]\n [1. 1. 1. 1. 1.]\n [1. 1. 1. 1. 1.]\n [1. 1. 1. 1. 1.]\n [1. 1. 1. 1. 1.]]\n====================== 1 on the border and 0 inside in the array =======================\n[[1. 1. 1. 1. 1.]\n [1. 0. 0. 0. 1.]\n [1. 0. 0. 0. 1.]\n [1. 0. 0. 0. 1.]\n [1. 1. 1. 1. 1.]]\n"
     ]
    }
   ],
   "source": [
    "import numpy as np \n",
    "created_array=np.ones((5,5))\n",
    "print(\"====================== Original array =======================\\n{0}\".format(created_array))\n",
    "created_array[1:-1,1:-1]=0\n",
    "print(\"====================== 1 on the border and 0 inside in the array =======================\\n{0}\".format(created_array))"
   ]
  },
  {
   "cell_type": "code",
   "execution_count": null,
   "metadata": {},
   "outputs": [],
   "source": []
  }
 ]
}