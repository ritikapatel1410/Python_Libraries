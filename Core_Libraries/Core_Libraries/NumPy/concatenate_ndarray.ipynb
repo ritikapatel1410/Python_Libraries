{
 "metadata": {
  "language_info": {
   "codemirror_mode": {
    "name": "ipython",
    "version": 3
   },
   "file_extension": ".py",
   "mimetype": "text/x-python",
   "name": "python",
   "nbconvert_exporter": "python",
   "pygments_lexer": "ipython3",
   "version": "3.8.6-final"
  },
  "orig_nbformat": 2,
  "kernelspec": {
   "name": "python38664bit7a444ac97af44e57915db85c546801a4",
   "display_name": "Python 3.8.6 64-bit",
   "language": "python"
  }
 },
 "nbformat": 4,
 "nbformat_minor": 2,
 "cells": [
  {
   "source": [
    " @Author: Ritika Patidar\n",
    " @Date  : 2021-03-03 10:42:38\n",
    " @Last Modified by  : Ritika Patidar\n",
    " @Last Modified time : 2021-03-03 10:42:38\n",
    " @Title : concatenate two 2-dimensional arrays"
   ],
   "cell_type": "markdown",
   "metadata": {}
  },
  {
   "cell_type": "code",
   "execution_count": 26,
   "metadata": {},
   "outputs": [],
   "source": [
    "import numpy as np \n"
   ]
  },
  {
   "cell_type": "code",
   "execution_count": 27,
   "metadata": {},
   "outputs": [
    {
     "output_type": "stream",
     "name": "stdout",
     "text": [
      "==============user_defined_ndarray1===========\n[[0 1 3]\n [5 7 9]]\n================ user_defined_ndarray2==========\n[[ 0  2  4]\n [ 6  8 10]]\n=====================concatenate array ======================\n[[ 0  1  3  0  2  4]\n [ 5  7  9  6  8 10]]\n"
     ]
    }
   ],
   "source": [
    "user_defined_ndarray1=np.array([[0, 1, 3], [5, 7, 9]])\n",
    "user_defined_ndarray2=np.array([[0, 2, 4], [6, 8, 10]])\n",
    "concatenate_ndarray=np.concatenate((user_defined_ndarray1,user_defined_ndarray2),axis=1)\n",
    "print(\"==============user_defined_ndarray1===========\\n{0}\\n================ user_defined_ndarray2==========\\n{1}\\n=====================concatenate array ======================\\n{2}\".format(user_defined_ndarray1,user_defined_ndarray2,concatenate_ndarray))"
   ]
  }
 ]
}