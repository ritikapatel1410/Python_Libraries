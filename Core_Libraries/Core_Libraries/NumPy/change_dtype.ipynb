{
 "metadata": {
  "language_info": {
   "codemirror_mode": {
    "name": "ipython",
    "version": 3
   },
   "file_extension": ".py",
   "mimetype": "text/x-python",
   "name": "python",
   "nbconvert_exporter": "python",
   "pygments_lexer": "ipython3",
   "version": "3.8.6-final"
  },
  "orig_nbformat": 2,
  "kernelspec": {
   "name": "python38664bit7a444ac97af44e57915db85c546801a4",
   "display_name": "Python 3.8.6 64-bit",
   "language": "python"
  }
 },
 "nbformat": 4,
 "nbformat_minor": 2,
 "cells": [
  {
   "source": [
    " @Author: Ritika Patidar\n",
    " @Date  : 2021-03-04 00:42:38\n",
    " @Last Modified by  : Ritika Patidar\n",
    " @Last Modified time : 2021-03-04 00:42:38\n",
    " @Title : change the data type of an array"
   ],
   "cell_type": "markdown",
   "metadata": {}
  },
  {
   "cell_type": "code",
   "execution_count": 19,
   "metadata": {},
   "outputs": [],
   "source": [
    "import numpy as np"
   ]
  },
  {
   "cell_type": "code",
   "execution_count": 20,
   "metadata": {},
   "outputs": [
    {
     "output_type": "stream",
     "name": "stdout",
     "text": [
      "=============================================\nOriginal_ndarray : [[ 2  4  6]\n [ 6  8 10]] \n=======================\nconverted_array : [[ 2.  4.  6.]\n [ 6.  8. 10.]]\n"
     ]
    }
   ],
   "source": [
    "Original_ndarray=np.array([[ 2, 4, 6],[ 6, 8, 10]],dtype=np.int32)\n",
    "converted_array=Original_ndarray.astype(np.float64)\n",
    "print(\"=============================================\\nOriginal_ndarray : {0} \\n=======================\\nconverted_array : {1}\".format(Original_ndarray,converted_array))"
   ]
  }
 ]
}