{
 "metadata": {
  "language_info": {
   "codemirror_mode": {
    "name": "ipython",
    "version": 3
   },
   "file_extension": ".py",
   "mimetype": "text/x-python",
   "name": "python",
   "nbconvert_exporter": "python",
   "pygments_lexer": "ipython3",
   "version": "3.8.6-final"
  },
  "orig_nbformat": 2,
  "kernelspec": {
   "name": "python38664bit7a444ac97af44e57915db85c546801a4",
   "display_name": "Python 3.8.6 64-bit",
   "language": "python"
  }
 },
 "nbformat": 4,
 "nbformat_minor": 2,
 "cells": [
  {
   "source": [
    "\n",
    " @Author: Ritika Patidar\n",
    " @Date: 2021-03-03 11:59:00\n",
    " @Last Modified by: Ritika Patidar\n",
    " @Last Modified time: 2021-03-03 11:59:00 \n",
    " @Title : find common values between two arrays\n"
   ],
   "cell_type": "markdown",
   "metadata": {}
  },
  {
   "cell_type": "code",
   "execution_count": 1,
   "metadata": {},
   "outputs": [
    {
     "output_type": "stream",
     "name": "stdout",
     "text": [
      "===================== intersection of ndarray ========================================\n[10 40]\n"
     ]
    }
   ],
   "source": [
    "import numpy as np \n",
    "user_defined_ndarray1=np.array([0,10,20,40,60])\n",
    "user_defined_ndarray2=np.array([10, 30, 40])\n",
    "print(\"===================== intersection of ndarray ========================================\\n{0}\".format(np.intersect1d(user_defined_ndarray1,user_defined_ndarray2)))\n"
   ]
  },
  {
   "cell_type": "code",
   "execution_count": null,
   "metadata": {},
   "outputs": [],
   "source": []
  }
 ]
}