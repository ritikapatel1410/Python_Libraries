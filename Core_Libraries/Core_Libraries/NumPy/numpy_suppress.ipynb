{
 "metadata": {
  "language_info": {
   "codemirror_mode": {
    "name": "ipython",
    "version": 3
   },
   "file_extension": ".py",
   "mimetype": "text/x-python",
   "name": "python",
   "nbconvert_exporter": "python",
   "pygments_lexer": "ipython3",
   "version": "3.8.6-final"
  },
  "orig_nbformat": 2,
  "kernelspec": {
   "name": "python38664bit7a444ac97af44e57915db85c546801a4",
   "display_name": "Python 3.8.6 64-bit",
   "language": "python"
  }
 },
 "nbformat": 4,
 "nbformat_minor": 2,
 "cells": [
  {
   "source": [
    "@Author: Ritika Patidar\n",
    " @Date  : 2021-03-04 01:42:38\n",
    " @Last Modified by  : Ritika Patidar\n",
    " @Last Modified time : 2021-03-04 01:42:38\n",
    " @Title : suppresses the use of scientific notation for small numbers in numpy array"
   ],
   "cell_type": "markdown",
   "metadata": {}
  },
  {
   "cell_type": "code",
   "execution_count": 3,
   "metadata": {},
   "outputs": [],
   "source": [
    "import numpy as np"
   ]
  },
  {
   "cell_type": "code",
   "execution_count": 4,
   "metadata": {},
   "outputs": [
    {
     "output_type": "stream",
     "name": "stdout",
     "text": [
      "================================= Original ndarray ===========================\n[1.60e-10 1.60e+00 1.20e+03 2.35e-01]\n================================= Original array after suppresses ===========================\n[   0.       1.6   1200.       0.235]\n"
     ]
    }
   ],
   "source": [
    "user_defined_array=np.array([ 1.60000000e-10, 1.60000000e+00, 1.20000000e+03, 2.35000000e-01]) \n",
    "print(\"================================= Original ndarray ===========================\\n{0}\".format(user_defined_array))\n",
    "np.set_printoptions(suppress=True)\n",
    "print(\"================================= Original array after suppresses ===========================\\n{0}\".format(user_defined_array))"
   ]
  }
 ]
}